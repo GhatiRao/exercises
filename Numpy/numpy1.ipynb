{
 "cells": [
  {
   "cell_type": "markdown",
   "metadata": {},
   "source": [
    "## ARRAY\n",
    "\n",
    "An Array is a Data Structure which contains elements / data of a particular data type alone. This is the key difference with respect to List."
   ]
  },
  {
   "cell_type": "code",
   "execution_count": 18,
   "metadata": {},
   "outputs": [],
   "source": [
    "a = [1, 2, 4, 5, 6, 7]"
   ]
  },
  {
   "cell_type": "code",
   "execution_count": 3,
   "metadata": {},
   "outputs": [],
   "source": [
    "import numpy as np"
   ]
  },
  {
   "cell_type": "code",
   "execution_count": 36,
   "metadata": {
    "scrolled": false
   },
   "outputs": [
    {
     "name": "stdout",
     "output_type": "stream",
     "text": [
      "<class 'numpy.ndarray'>\n",
      "[1 2 4 5 6 7]\n"
     ]
    }
   ],
   "source": [
    "b = np.array(a)\n",
    "print(type(b))\n",
    "print(b)\n",
    "\n",
    "arr = b.copy()"
   ]
  },
  {
   "cell_type": "code",
   "execution_count": 9,
   "metadata": {},
   "outputs": [],
   "source": [
    "a1 = [1, 2, 4, 5, 6, 'mango']"
   ]
  },
  {
   "cell_type": "code",
   "execution_count": 11,
   "metadata": {},
   "outputs": [
    {
     "name": "stdout",
     "output_type": "stream",
     "text": [
      "['1' '2' '4' '5' '6' 'mango']\n"
     ]
    }
   ],
   "source": [
    "\n",
    "b1 = np.array(a1)\n",
    "print(b1)\n",
    "\n",
    "## All the integers are converted to strings, because of the prescence of a string datatype in the list a1."
   ]
  },
  {
   "cell_type": "markdown",
   "metadata": {},
   "source": [
    "## SHAPE\n",
    "\n",
    "Shape is the indication of the number of rows and columns that exists in the array.\n",
    "--> Shape is an attribute of the array object"
   ]
  },
  {
   "cell_type": "code",
   "execution_count": 14,
   "metadata": {},
   "outputs": [
    {
     "data": {
      "text/plain": [
       "(6,)"
      ]
     },
     "execution_count": 14,
     "metadata": {},
     "output_type": "execute_result"
    }
   ],
   "source": [
    "b1.shape"
   ]
  },
  {
   "cell_type": "code",
   "execution_count": 20,
   "metadata": {},
   "outputs": [
    {
     "data": {
      "text/plain": [
       "array([[1, 2],\n",
       "       [4, 5],\n",
       "       [6, 7]])"
      ]
     },
     "execution_count": 20,
     "metadata": {},
     "output_type": "execute_result"
    }
   ],
   "source": [
    "b.reshape(3,2)\n",
    "\n",
    "# The number of elements must be the same for shaping and reshaping"
   ]
  },
  {
   "cell_type": "markdown",
   "metadata": {},
   "source": [
    "## ARANGE, LINSPACE\n",
    "\n",
    "arange is the method of numpy class for creating a range of numbers [start, end).\n",
    "\n",
    "linspace is the method of numpy class for creating a sequence of 'num' numbers equally spaced between [start, end]"
   ]
  },
  {
   "cell_type": "code",
   "execution_count": 35,
   "metadata": {},
   "outputs": [
    {
     "name": "stdout",
     "output_type": "stream",
     "text": [
      "[0 1 2 3 4 5 6 7 8 9]\n",
      "[ 0.          1.11111111  2.22222222  3.33333333  4.44444444  5.55555556\n",
      "  6.66666667  7.77777778  8.88888889 10.        ]\n"
     ]
    }
   ],
   "source": [
    "arangeArr = np.arange(10)\n",
    "print(arangeArr)\n",
    "\n",
    "linspaceArr = np.linspace(0,10, num=10)\n",
    "print(linspaceArr)"
   ]
  },
  {
   "cell_type": "code",
   "execution_count": 34,
   "metadata": {},
   "outputs": [
    {
     "data": {
      "text/plain": [
       "array([  0,   1,   2,   3, 100, 100, 100, 100, 100, 100])"
      ]
     },
     "execution_count": 34,
     "metadata": {},
     "output_type": "execute_result"
    }
   ],
   "source": [
    "# Copying and Broadcasting\n",
    "\n",
    "arangeArr_copy = arangeArr[:]\n",
    "arangeArr_copy  \n",
    "# array([0, 1, 2, 3, 4, 5, 6, 7, 8, 9])\n",
    "\n",
    "\n",
    "arangeArr_copy[4:] = 100\n",
    "arangeArr_copy"
   ]
  },
  {
   "cell_type": "markdown",
   "metadata": {},
   "source": [
    "## CONDITIONS\n",
    "\n",
    "Any Condition directed at the array will be implicitly applied to each of the element constituting to it."
   ]
  },
  {
   "cell_type": "code",
   "execution_count": 37,
   "metadata": {},
   "outputs": [
    {
     "data": {
      "text/plain": [
       "array([1, 2, 4, 5, 6, 7])"
      ]
     },
     "execution_count": 37,
     "metadata": {},
     "output_type": "execute_result"
    }
   ],
   "source": [
    "arr"
   ]
  },
  {
   "cell_type": "code",
   "execution_count": 38,
   "metadata": {},
   "outputs": [
    {
     "data": {
      "text/plain": [
       "array([False, False,  True,  True,  True,  True])"
      ]
     },
     "execution_count": 38,
     "metadata": {},
     "output_type": "execute_result"
    }
   ],
   "source": [
    "b = 3\n",
    "arr > 3\n"
   ]
  },
  {
   "cell_type": "code",
   "execution_count": 39,
   "metadata": {},
   "outputs": [
    {
     "data": {
      "text/plain": [
       "array([4, 5, 6, 7])"
      ]
     },
     "execution_count": 39,
     "metadata": {},
     "output_type": "execute_result"
    }
   ],
   "source": [
    "arr[arr>3]"
   ]
  },
  {
   "cell_type": "markdown",
   "metadata": {},
   "source": [
    "## RANDOM\n",
    "\n",
    "This is a subclass of numpy module"
   ]
  },
  {
   "cell_type": "code",
   "execution_count": 44,
   "metadata": {},
   "outputs": [
    {
     "data": {
      "text/plain": [
       "array([[0.82444639],\n",
       "       [0.60960266],\n",
       "       [0.56436726],\n",
       "       [0.25226742],\n",
       "       [0.62431987],\n",
       "       [0.18988918]])"
      ]
     },
     "execution_count": 44,
     "metadata": {},
     "output_type": "execute_result"
    }
   ],
   "source": [
    "np.random.rand(6,1)\n",
    "\n",
    "#creates elements of standard distribution based on the given shape."
   ]
  },
  {
   "cell_type": "code",
   "execution_count": 47,
   "metadata": {},
   "outputs": [
    {
     "data": {
      "text/plain": [
       "array([[ 0.48359433],\n",
       "       [ 0.6757642 ],\n",
       "       [ 1.24932796],\n",
       "       [-1.3593205 ],\n",
       "       [ 0.33897363],\n",
       "       [ 1.63077421]])"
      ]
     },
     "execution_count": 47,
     "metadata": {},
     "output_type": "execute_result"
    }
   ],
   "source": [
    "np.random.randn(6,1)\n",
    "\n",
    "#creates elements of standard normal distribution based on the given shape."
   ]
  },
  {
   "cell_type": "code",
   "execution_count": 53,
   "metadata": {},
   "outputs": [
    {
     "data": {
      "text/plain": [
       "array([[2, 2, 3, 7, 7, 0, 7, 6, 0, 5],\n",
       "       [0, 3, 0, 6, 6, 0, 6, 3, 0, 3],\n",
       "       [0, 6, 2, 3, 4, 6, 3, 9, 4, 9],\n",
       "       [7, 1, 0, 8, 4, 9, 8, 1, 4, 4],\n",
       "       [9, 1, 4, 0, 5, 9, 0, 7, 8, 6],\n",
       "       [7, 9, 5, 6, 3, 2, 4, 1, 7, 5],\n",
       "       [1, 9, 9, 2, 7, 9, 6, 7, 8, 6],\n",
       "       [2, 0, 7, 7, 0, 0, 2, 8, 1, 1],\n",
       "       [3, 7, 7, 2, 4, 8, 2, 7, 6, 0],\n",
       "       [3, 3, 6, 6, 2, 2, 3, 0, 4, 6]])"
      ]
     },
     "execution_count": 53,
     "metadata": {},
     "output_type": "execute_result"
    }
   ],
   "source": [
    "np.random.randint(0,10, size = (10,10))\n",
    "\n",
    "#creates random integers between the given start and end integers of the given size"
   ]
  },
  {
   "cell_type": "code",
   "execution_count": null,
   "metadata": {},
   "outputs": [],
   "source": []
  }
 ],
 "metadata": {
  "kernelspec": {
   "display_name": "Python 3",
   "language": "python",
   "name": "python3"
  },
  "language_info": {
   "codemirror_mode": {
    "name": "ipython",
    "version": 3
   },
   "file_extension": ".py",
   "mimetype": "text/x-python",
   "name": "python",
   "nbconvert_exporter": "python",
   "pygments_lexer": "ipython3",
   "version": "3.8.5"
  }
 },
 "nbformat": 4,
 "nbformat_minor": 4
}
